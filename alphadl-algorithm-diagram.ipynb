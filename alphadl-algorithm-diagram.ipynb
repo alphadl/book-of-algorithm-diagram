{
 "cells": [
  {
   "cell_type": "code",
   "execution_count": 6,
   "metadata": {
    "collapsed": true
   },
   "outputs": [],
   "source": [
    "#binary_search algriothm\n",
    "def binary_search(list,item):\n",
    "    low=0\n",
    "    high=len(list)-1\n",
    "    \n",
    "    while low<=high:\n",
    "        mid=(low+high)/2\n",
    "        guess=list[mid]\n",
    "        \n",
    "        if guess == item:\n",
    "            return mid\n",
    "        if guess > item:\n",
    "            high = mid - 1\n",
    "        else:\n",
    "            low = mid + 1\n",
    "    return  None\n",
    "def linear_search(list,item):\n",
    "    low=0\n",
    "    high=len(list)-1\n",
    "    while low<=high:\n",
    "        if list[low]==item:\n",
    "            return low\n",
    "        else:\n",
    "            low = low + 1\n",
    "    return None\n",
    "mylist=range(1,100001)"
   ]
  },
  {
   "cell_type": "code",
   "execution_count": 7,
   "metadata": {},
   "outputs": [
    {
     "name": "stdout",
     "output_type": "stream",
     "text": [
      "binary run time: 0.000024 s\n",
      "linear run time: 0.025709 s\n"
     ]
    }
   ],
   "source": [
    "import random\n",
    "import time\n",
    "random.shuffle(mylist)\n",
    "#binary\n",
    "start1=time.clock()\n",
    "for i in range(45,56):\n",
    "    binary_search(mylist,i)\n",
    "end1=time.clock()\n",
    "print \"binary run time: %f s\" % ((end1 - start1)/10)\n",
    "\n",
    "#linar\n",
    "start2=time.clock()\n",
    "for i in range(45,56):\n",
    "    linear_search(mylist,i)\n",
    "end2=time.clock()\n",
    "print \"linear run time: %f s\" % ((end2 - start2)/10)\n"
   ]
  },
  {
   "cell_type": "code",
   "execution_count": 8,
   "metadata": {},
   "outputs": [
    {
     "name": "stdout",
     "output_type": "stream",
     "text": [
      "[10]\n",
      "[10, 6]\n",
      "[10, 6, 5]\n",
      "[10, 6, 5, 3]\n",
      "[10, 6, 5, 3, 2]\n",
      "[10, 6, 5, 3, 2]\n"
     ]
    }
   ],
   "source": [
    "#O(n^2) selection sort\n",
    "def findBiggest(arr):\n",
    "    biggest=arr[0]\n",
    "    biggest_index=0\n",
    "    for i in range(1,len(arr)):\n",
    "        if arr[i] > biggest:\n",
    "            biggest=arr[i]\n",
    "            biggest_index=i\n",
    "    return biggest_index\n",
    "\n",
    "def selectionSort(arr):\n",
    "    newArr=[]\n",
    "    for i in range(len(arr)):\n",
    "        biggest_index=findBiggest(arr)\n",
    "        newArr.append(arr.pop(biggest_index))\n",
    "        print newArr\n",
    "    return newArr\n",
    "\n",
    "print selectionSort([5,3,6,2,10])"
   ]
  },
  {
   "cell_type": "code",
   "execution_count": 9,
   "metadata": {},
   "outputs": [
    {
     "name": "stdout",
     "output_type": "stream",
     "text": [
      "10 10\n"
     ]
    }
   ],
   "source": [
    "#fact\n",
    "def recsum(x):\n",
    "    if x == 1:\n",
    "        return x\n",
    "    else:\n",
    "        return x + recsum(x - 1)\n",
    "#-*- coding: utf-8 -*-    \n",
    "#Tail Call Optimization(尾递归)\n",
    "def tailRecsum(x,sum=0):\n",
    "    if x == 0:\n",
    "        return sum\n",
    "    else:\n",
    "        return tailRecsum(x-1,sum+x)\n",
    "\n",
    "print recsum(4),tailRecsum(4)"
   ]
  },
  {
   "cell_type": "code",
   "execution_count": 10,
   "metadata": {},
   "outputs": [
    {
     "name": "stdout",
     "output_type": "stream",
     "text": [
      "8\n"
     ]
    }
   ],
   "source": [
    "#-*-coding:utf-8-*-\n",
    "#divide and conquer(C & D)分而治之割地\n",
    "def find_max_average_split(width,height):\n",
    "    if max(width,height) % min(width,height) == 0:\n",
    "        return min(width,height)\n",
    "    else:\n",
    "        return find_max_average_split(max(width,height)-min(width,height),min(width,height))\n",
    "\n",
    "print find_max_average_split(168,64)"
   ]
  },
  {
   "cell_type": "code",
   "execution_count": 11,
   "metadata": {},
   "outputs": [
    {
     "name": "stdout",
     "output_type": "stream",
     "text": [
      "21 21\n"
     ]
    }
   ],
   "source": [
    "#sum arr method1\n",
    "def rec_sum(arr):\n",
    "    if len(arr)==1:\n",
    "        return arr[0]\n",
    "    else:\n",
    "        #arr[0]=arr.pop(0)+arr[0]\n",
    "        arr[0]=arr[1]+arr.pop(0)\n",
    "        return rec_sum(arr)\n",
    "#sum arr method2\n",
    "def rec_sum2(arr):\n",
    "    if arr==[]:\n",
    "        return 0\n",
    "    return arr[0]+rec_sum2(arr[1:])\n",
    "\n",
    "print rec_sum([1,2,3,4,5,6]),rec_sum2([1,2,3,4,5,6])"
   ]
  },
  {
   "cell_type": "code",
   "execution_count": 12,
   "metadata": {},
   "outputs": [
    {
     "name": "stdout",
     "output_type": "stream",
     "text": [
      "6\n",
      "7\n"
     ]
    }
   ],
   "source": [
    "#count arr length\n",
    "def count_len(arr):\n",
    "    if arr==[]:\n",
    "        return 0\n",
    "    return 1+count_len(arr[1:])\n",
    "\n",
    "#count max element\n",
    "def find_max(arr):\n",
    "    if len(arr)==1:\n",
    "        return arr[0]\n",
    "    else:\n",
    "        arr.pop(0) if arr[0]<arr[1] else arr.pop(1)\n",
    "        return find_max(arr)\n",
    "    \n",
    "print count_len([1,2,7,4,5,6])\n",
    "print find_max([1,2,7,4,5,6])\n"
   ]
  },
  {
   "cell_type": "code",
   "execution_count": 13,
   "metadata": {},
   "outputs": [
    {
     "name": "stdout",
     "output_type": "stream",
     "text": [
      "3\n"
     ]
    }
   ],
   "source": [
    "# binary_find Divide & Conquer\n",
    "def find_binary(arr,low,high,target):\n",
    "    low,high=0,len(arr)\n",
    "    middle=(low+high)/2\n",
    "    if arr[middle] == target:\n",
    "        return (low+high)/2\n",
    "    else:\n",
    "        return find_binary(arr,low,middle,target) if arr[middle]>target else find_binary(arr,middle,high,target)\n",
    "\n",
    "print find_binary([1,2,3,4,5,6,7],0,6,4)\n",
    "        "
   ]
  },
  {
   "cell_type": "code",
   "execution_count": 14,
   "metadata": {},
   "outputs": [
    {
     "name": "stdout",
     "output_type": "stream",
     "text": [
      "[1, 2, 3, 5, 8, 9] [1, 2, 3, 5, 8, 9] [1, 2, 3, 5, 8, 9]\n"
     ]
    }
   ],
   "source": [
    "#quick sort\n",
    "def qsort(arr):\n",
    "    if len(arr)<2:\n",
    "        return arr\n",
    "    else:\n",
    "        baseline=arr[0]\n",
    "        left=[e for e in arr[1:] if e<baseline]\n",
    "        right=[e for e in arr[1:] if e>=baseline]\n",
    "        return qsort(left)+[baseline]+qsort(right)\n",
    "\n",
    "#qsort again    \n",
    "def qsort2(arr):\n",
    "    if len(arr)<2:return arr\n",
    "    else:\n",
    "        baseline=arr[0]\n",
    "        left=[e for e in arr[1:] if e<baseline]\n",
    "        right=[e for e in arr[1:] if e>=baseline]\n",
    "        return qsort2(left)+[baseline]+qsort2(right)\n",
    "    \n",
    "#qsort again\n",
    "def qsort3(arr):\n",
    "    if len(arr)<2:return arr\n",
    "    else:\n",
    "        baseline=arr[0]\n",
    "        left=[e for e in arr[1:] if e<baseline]\n",
    "        right=[e for e in arr[1:] if e>=baseline]\n",
    "        return qsort3(left)+[baseline]+qsort3(right)\n",
    "print qsort([2,3,1,5,9,8]),qsort2([2,3,1,5,9,8]),qsort3([2,3,1,5,9,8])"
   ]
  },
  {
   "cell_type": "code",
   "execution_count": 15,
   "metadata": {},
   "outputs": [
    {
     "name": "stdout",
     "output_type": "stream",
     "text": [
      "random_qsort run time: 0.000390 s\n",
      "qsort run time: 0.043825 s\n",
      "selectionSort run time: 0.060541 s\n"
     ]
    }
   ],
   "source": [
    "#-*-coding:utf-8-*-\n",
    "'''对比随机选baseline和固定开头为baseline，面对最差的情况，运行速度'''\n",
    "#随机选baseline实现快速排序\n",
    "import random\n",
    "import time\n",
    "def qsort4(arr):\n",
    "    if len(arr)<2:return arr\n",
    "    else:\n",
    "        baseline_index=random.randint(0,len(arr)-1)\n",
    "        baseline=arr[baseline_index]\n",
    "        left=[e for e in [arr[:baseline_index]+arr[baseline_index+1:]] if e<baseline]\n",
    "        right=[e for e in arr[:baseline_index]+arr[baseline_index+1:] if e>=baseline]\n",
    "        return qsort4(left)+[baseline]+qsort4(right)\n",
    "    \n",
    "#普通快排比时间\n",
    "def qsort5(arr):\n",
    "    if len(arr)<2:return arr\n",
    "    else:\n",
    "        baseline=arr[0]\n",
    "        left=[e for e in arr[1:] if e<baseline]\n",
    "        right=[e for e in arr[1:] if e>=baseline]\n",
    "        return qsort5(left)+[baseline]+qsort5(right)\n",
    "\n",
    "#选择排序作为对比\n",
    "def findBiggest(arr):\n",
    "    biggest=arr[0]\n",
    "    biggest_index=0\n",
    "    for i in range(1,len(arr)):\n",
    "        if arr[i] > biggest:\n",
    "            biggest=arr[i]\n",
    "            biggest_index=i\n",
    "    return biggest_index\n",
    "\n",
    "def selectionSort(arr):\n",
    "    newArr=[]\n",
    "    for i in range(len(arr)):\n",
    "        biggest_index=findBiggest(arr)\n",
    "        newArr.append(arr.pop(biggest_index))\n",
    "    return newArr\n",
    "\n",
    "\n",
    "aa=range(500)\n",
    "\n",
    "start1=time.clock()\n",
    "qsort4(aa)\n",
    "end1=time.clock()\n",
    "print \"random_qsort run time: %f s\" % (end1 - start1)\n",
    "\n",
    "\n",
    "start2=time.clock()\n",
    "qsort5(aa)\n",
    "end2=time.clock()\n",
    "print \"qsort run time: %f s\" % (end2 - start2)\n",
    "\n",
    "start3=time.clock()\n",
    "selectionSort(aa)\n",
    "end3=time.clock()\n",
    "print \"selectionSort run time: %f s\" % (end3 - start3)\n"
   ]
  },
  {
   "cell_type": "code",
   "execution_count": 16,
   "metadata": {},
   "outputs": [
    {
     "name": "stdout",
     "output_type": "stream",
     "text": [
      "15501151659\n"
     ]
    }
   ],
   "source": [
    "#hash table\n",
    "book={}#or book=dic()\n",
    "book['liam']=15501151659\n",
    "book['toby']=18610091469\n",
    "book['wen']=15939360112\n",
    "print book['liam']"
   ]
  },
  {
   "cell_type": "code",
   "execution_count": 18,
   "metadata": {
    "collapsed": true
   },
   "outputs": [],
   "source": [
    "#graph \n",
    "#breadth-first search,BFS\n",
    "graph={}\n",
    "graph['you']=['alice','bob','claire']\n",
    "graph['alice']=['peggy']\n",
    "graph['bob']=['anuj','peggy']\n",
    "graph['claire']=['thom','jonny']\n",
    "graph['thom']=[]\n",
    "graph['jonny']=[]\n",
    "graph['anuj']=[]\n",
    "graph['peggy']=[]"
   ]
  },
  {
   "cell_type": "code",
   "execution_count": 28,
   "metadata": {},
   "outputs": [
    {
     "name": "stdout",
     "output_type": "stream",
     "text": [
      "thom is a mango seller!\n"
     ]
    },
    {
     "data": {
      "text/plain": [
       "True"
      ]
     },
     "execution_count": 28,
     "metadata": {},
     "output_type": "execute_result"
    }
   ],
   "source": [
    "#Tmplementate BFS algorithm through deque\n",
    "from collections import deque\n",
    "def search(name):\n",
    "    search_queue=deque()\n",
    "    #avoid repeat name and circle\n",
    "    searched_list=[]\n",
    "    #add your neighbor to the queue\n",
    "    search_queue+=graph[name]\n",
    "    while search_queue:\n",
    "        person=search_queue.popleft()\n",
    "        if person not in searched_list:\n",
    "            if person_is_seller(person):\n",
    "                print person+\" is a mango seller!\"\n",
    "                return True\n",
    "            else:\n",
    "                search_queue+=graph[person]\n",
    "                searched_list.append(person)\n",
    "    return False\n",
    "def person_is_seller(name):\n",
    "    return name[-1]=='m'\n",
    "\n",
    "search('you')"
   ]
  },
  {
   "cell_type": "code",
   "execution_count": 45,
   "metadata": {},
   "outputs": [
    {
     "name": "stdout",
     "output_type": "stream",
     "text": [
      "{'a': 5, 'b': 2, 'fin': 6} {'a': 'b', 'b': 'start', 'fin': 'a'}\n"
     ]
    }
   ],
   "source": [
    "#dijkstra's algorithm\n",
    "#构建图结构，将有向无环图 存储在散列表里（字典）\n",
    "graph={}\n",
    "graph['start']={}\n",
    "graph['start']['a']=6\n",
    "graph['start']['b']=2\n",
    "graph['a']={}\n",
    "graph['a']['fin']=1\n",
    "graph['b']={}\n",
    "graph['b']['a']=3\n",
    "graph['b']['fin']=5\n",
    "# print graph['start']['b']\n",
    "\n",
    "#用散列表存储每个节点的开销\n",
    "infinity=float('inf')  #无穷大\n",
    "\n",
    "costs={}\n",
    "costs['a']=6\n",
    "costs['b']=2\n",
    "costs['fin']=infinity\n",
    "\n",
    "#用散列表存储父节点散列表\n",
    "parents={}\n",
    "parents['a']='start'\n",
    "parents['b']='start'\n",
    "parents['fin']=None\n",
    "\n",
    "#记录已经处理过的结点，避免重复处理\n",
    "processed=[]\n",
    "\n",
    "###准备完毕  下面开始算法algriothm\n",
    "def find_lowest_cost_node(costs):\n",
    "    lowest_cost=float('inf')\n",
    "    lowest_cost_node=None\n",
    "    for node in costs:\n",
    "        cost = costs[node]\n",
    "        if cost < lowest_cost and node not in processed:\n",
    "            lowest_cost = cost\n",
    "            lowest_cost_node = node\n",
    "    return lowest_cost_node\n",
    "\n",
    "node=find_lowest_cost_node(costs)\n",
    "\n",
    "while node is not None and node is not 'fin':\n",
    "    cost = costs[node]\n",
    "    neighbors= graph[node]\n",
    "    for n in neighbors.keys():\n",
    "        new_cost = cost + neighbors[n]\n",
    "        if costs[n] > new_cost:\n",
    "            costs[n] = new_cost\n",
    "            parents[n]=node\n",
    "    processed.append(node)\n",
    "    node=find_lowest_cost_node(costs)\n",
    "\n",
    "print costs,parents"
   ]
  },
  {
   "cell_type": "code",
   "execution_count": 55,
   "metadata": {},
   "outputs": [
    {
     "name": "stdout",
     "output_type": "stream",
     "text": [
      "当前最优 ktwo set(['mt', 'id', 'wa'])\n",
      "当前最优 kthree set(['ca', 'or', 'nv'])\n",
      "当前最优 kfive set(['ca', 'az'])\n",
      "当前最优 kfour set(['ut', 'nv'])\n",
      "set(['mt', 'wa', 'ut', 'ca', 'az', 'id', 'nv', 'or'])\n"
     ]
    }
   ],
   "source": [
    "#贪婪算法\n",
    "#广播 与 州  覆盖问题：贪婪算法\n",
    "states_needed=set(['mt','wa','or','id','nv','ut','ca','az'])\n",
    "\n",
    "stations={}\n",
    "stations['knoe']=set(['id','nv','ut'])\n",
    "stations['ktwo']=set(['wa','id','mt'])\n",
    "stations['kthree']=set(['or','nv','ca'])\n",
    "stations['kfour']=set(['nv','ut'])\n",
    "stations['kfive']=set(['ca','az'])\n",
    "#将最终的广播台存入一个集合中\n",
    "final_stations=set()\n",
    "\n",
    "#greedy algrothm\n",
    "best_station=None\n",
    "states_covered=set()\n",
    "\n",
    "while len(states_needed - states_covered) != 0:\n",
    "    #选择最优的广播\n",
    "    tmp_station=[0]\n",
    "    for station,states in stations.items():\n",
    "        if len(states - states_covered)>max(tmp_station):\n",
    "            best_station=station\n",
    "        tmp_station.append(len(states - states_covered))\n",
    "    states_covered = states_covered | stations[best_station]\n",
    "    print \"当前最优\",best_station,stations.pop(best_station)\n",
    "    \n",
    "print states_covered  \n",
    "        \n",
    "        "
   ]
  }
 ],
 "metadata": {
  "kernelspec": {
   "display_name": "Python 2",
   "language": "python",
   "name": "python2"
  },
  "language_info": {
   "codemirror_mode": {
    "name": "ipython",
    "version": 2
   },
   "file_extension": ".py",
   "mimetype": "text/x-python",
   "name": "python",
   "nbconvert_exporter": "python",
   "pygments_lexer": "ipython2",
   "version": "2.7.13"
  }
 },
 "nbformat": 4,
 "nbformat_minor": 2
}
